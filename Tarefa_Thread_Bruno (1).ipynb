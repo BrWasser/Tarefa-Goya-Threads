{
  "nbformat": 4,
  "nbformat_minor": 0,
  "metadata": {
    "colab": {
      "provenance": []
    },
    "kernelspec": {
      "name": "python3",
      "display_name": "Python 3"
    },
    "language_info": {
      "name": "python"
    }
  },
  "cells": [
    {
      "cell_type": "markdown",
      "source": [
        "# Função soma_parcial\n",
        "\n",
        "Essa função é responsável por calcular a soma parcial de uma sublista. Ela recebe a lista de números, os índices inicio e fim para definir o trecho da lista que será somado, uma lista resultado onde a soma parcial será armazenada, e um índice específico para armazenar o resultado. Com essa organização, cada thread executará soma_parcial sobre uma parte da lista principal e salvará sua soma na posição correspondente de resultado."
      ],
      "metadata": {
        "id": "edqef4KaOsO6"
      }
    },
    {
      "cell_type": "code",
      "execution_count": null,
      "metadata": {
        "id": "l2zdVD53OVf0"
      },
      "outputs": [],
      "source": [
        "import threading\n",
        "\n",
        "# Função para calcular a soma parcial de uma sublista\n",
        "def soma_parcial(numeros, inicio, fim, resultado, indice):\n",
        "    # Calcula a soma da sublista e armazena no índice correspondente da lista de resultados\n",
        "    resultado[indice] = sum(numeros[inicio:fim])\n"
      ]
    },
    {
      "cell_type": "markdown",
      "source": [
        "# Função soma_com_duas_threads\n",
        "\n",
        "A função soma_com_duas_threads divide uma lista de 10 números em duas partes para serem processadas por duas threads. Primeiro, o tamanho da lista é calculado, e ela é dividida ao meio. Uma lista resultado com dois elementos é criada para armazenar as somas parciais de cada thread. Em seguida, são criadas duas threads, cada uma executando soma_parcial sobre uma das metades da lista. Após iniciar ambas as threads, join() é utilizado para garantir que o programa principal espere a conclusão de ambas antes de prosseguir. No final, as somas parciais são somadas para obter a soma total."
      ],
      "metadata": {
        "id": "zwFZnv0AOxtJ"
      }
    },
    {
      "cell_type": "code",
      "source": [
        "# Função principal que utiliza duas threads\n",
        "def soma_com_duas_threads():\n",
        "    numeros = [1, 2, 3, 4, 5, 6, 7, 8, 9, 10]  # Lista de números para soma\n",
        "    tamanho = len(numeros)  # Tamanho da lista\n",
        "\n",
        "    # Divide a lista em duas partes\n",
        "    meio = tamanho // 2\n",
        "    resultado = [0, 0]  # Armazena as somas parciais de cada thread\n",
        "\n",
        "    # Cria duas threads, cada uma com uma parte da lista\n",
        "    thread1 = threading.Thread(target=soma_parcial, args=(numeros, 0, meio, resultado, 0))\n",
        "    thread2 = threading.Thread(target=soma_parcial, args=(numeros, meio, tamanho, resultado, 1))\n",
        "\n",
        "    # Inicia e aguarda ambas as threads\n",
        "    thread1.start()\n",
        "    thread2.start()\n",
        "    thread1.join()\n",
        "    thread2.join()\n",
        "\n",
        "    # Soma total a partir dos resultados parciais\n",
        "    soma_total = sum(resultado)\n",
        "    print(f\"Soma total com duas threads: {soma_total}\")"
      ],
      "metadata": {
        "id": "_VDwsViHOcGt"
      },
      "execution_count": null,
      "outputs": []
    },
    {
      "cell_type": "markdown",
      "source": [
        "# Função soma_com_multiplas_threads\n",
        "\n",
        "A função soma_com_multiplas_threads é uma versão mais flexível que permite o uso de múltiplas threads para somar listas de qualquer tamanho. Recebe como parâmetros a lista de números e o número de threads desejado. A lista é dividida de acordo com o número de threads, e cada thread recebe uma parte específica da lista para somar. A última thread processa até o final da lista para cobrir qualquer parte restante. Cada thread armazena sua soma parcial na lista resultado, e, no final, join() garante que todas as threads tenham terminado. Finalmente, a soma total é calculada somando os elementos de resultado."
      ],
      "metadata": {
        "id": "87z9qW39O0C2"
      }
    },
    {
      "cell_type": "code",
      "source": [
        "# Função para calcular a soma com múltiplas threads\n",
        "def soma_com_multiplas_threads(numeros, num_threads):\n",
        "    tamanho = len(numeros)  # Tamanho da lista\n",
        "    resultado = [0] * num_threads  # Armazena os resultados parciais para cada thread\n",
        "\n",
        "    # Calcula o tamanho de cada pedaço para as threads\n",
        "    tamanho_pedaco = tamanho // num_threads\n",
        "    threads = []\n",
        "\n",
        "    for i in range(num_threads):\n",
        "        # Define os índices de início e fim para cada pedaço\n",
        "        inicio = i * tamanho_pedaco\n",
        "        fim = tamanho if i == num_threads - 1 else (i + 1) * tamanho_pedaco\n",
        "\n",
        "        # Cria uma thread para calcular a soma parcial de cada pedaço\n",
        "        thread = threading.Thread(target=soma_parcial, args=(numeros, inicio, fim, resultado, i))\n",
        "        threads.append(thread)\n",
        "        thread.start()\n",
        "\n",
        "    # Aguarda todas as threads concluírem\n",
        "    for thread in threads:\n",
        "        thread.join()\n",
        "\n",
        "    # Soma total dos resultados parciais\n",
        "    soma_total = sum(resultado)\n",
        "    print(f\"Soma total com {num_threads} threads: {soma_total}\")"
      ],
      "metadata": {
        "id": "PMKH-5eKOeBL"
      },
      "execution_count": null,
      "outputs": []
    },
    {
      "cell_type": "markdown",
      "source": [
        "# Casos de Teste\n",
        "\n",
        "- O primeiro teste utiliza a função soma_com_duas_threads com uma lista de 10 elementos, esperando uma soma total de 55.\n",
        "- O segundo teste utiliza soma_com_multiplas_threads com uma lista de 5 elementos e 2 threads, para verificar a divisão em listas pequenas, com resultado esperado de 15.\n",
        "- O terceiro teste usa soma_com_multiplas_threads com uma lista de 10 elementos e 3 threads, resultando em 55.\n",
        "- O quarto teste aplica a função em uma lista grande de 10.000 elementos, dividida em 4 threads, para demonstrar a escalabilidade, com soma esperada de 50005000."
      ],
      "metadata": {
        "id": "BlDvf5gbO2K-"
      }
    },
    {
      "cell_type": "code",
      "source": [
        "# Teste com duas threads\n",
        "soma_com_duas_threads()\n",
        "\n",
        "# Testes com múltiplas threads e diferentes listas\n",
        "numeros_pequenos = [1, 2, 3, 4, 5]\n",
        "numeros_medios = [1, 2, 3, 4, 5, 6, 7, 8, 9, 10]\n",
        "numeros_grandes = list(range(1, 10001))\n",
        "\n",
        "# Executa a função com diferentes quantidades de threads\n",
        "soma_com_multiplas_threads(numeros_pequenos, 2)\n",
        "soma_com_multiplas_threads(numeros_medios, 3)\n",
        "soma_com_multiplas_threads(numeros_grandes, 4)"
      ],
      "metadata": {
        "colab": {
          "base_uri": "https://localhost:8080/"
        },
        "id": "Qm4a2LoWOfzH",
        "outputId": "94e73548-a699-4a2e-a763-f64a371b58de"
      },
      "execution_count": null,
      "outputs": [
        {
          "output_type": "stream",
          "name": "stdout",
          "text": [
            "Soma total com duas threads: 55\n",
            "Soma total com 2 threads: 15\n",
            "Soma total com 3 threads: 55\n",
            "Soma total com 4 threads: 50005000\n"
          ]
        }
      ]
    },
    {
      "cell_type": "markdown",
      "source": [
        "# 1. Qual é a abordagem utilizada no código conforme os comentários?\n",
        "\n",
        "A abordagem deste código é utilizar threads para dividir o cálculo da soma de uma lista em partes menores. Em vez de processar a lista inteira de uma vez em uma única thread, o código distribui a carga de trabalho entre múltiplas threads, onde cada thread processa uma parte específica da lista. Essa divisão permite que cada thread calcule uma \"soma parcial\" de sua parte, que é armazenada em uma lista de resultados. Ao final, o programa principal agrega todas as somas parciais para obter a soma total.\n",
        "Essa abordagem é vantajosa em listas grandes, pois permite que as threads trabalhem de forma paralela. Com essa distribuição, o tempo total de execução pode ser reduzido, pois várias partes da lista são processadas simultaneamente, o que aumenta a eficiência.\n",
        "\n",
        "# 2. Quais modificações seriam necessárias para execução de 3 ou mais threads?\n",
        "\n",
        "Para que o programa funcione com 3 ou mais threads, é necessário ajustar dinamicamente os índices de divisão da lista. No código, isso é feito na função soma_com_multiplas_threads, onde o tamanho de cada parte é calculado com base no comprimento da lista e no número de threads. Dividimos o comprimento total da lista pelo número de threads para obter o tamanho de cada pedaço que cada thread processará.\n",
        "Como o comprimento da lista nem sempre é divisível exatamente pelo número de threads, a última thread precisa processar até o final da lista para garantir que todos os elementos sejam incluídos. Essa última thread cobre qualquer \"sobra\" de elementos que não couberam nas divisões exatas das threads anteriores. Com esse ajuste, o código se adapta facilmente para um número arbitrário de threads.\n",
        "\n",
        "# 3. Por que a abordagem com threads possui maior escalabilidade?\n",
        "\n",
        "A utilização de threads torna o programa mais escalável porque permite que o cálculo da soma de uma lista seja realizado em paralelo, o que é ideal para aproveitamento de processadores com múltiplos núcleos. Ao dividir a carga de trabalho entre várias threads, cada uma processando uma parte da lista, o programa pode reduzir significativamente o tempo de execução para listas grandes.\n",
        "Essa escalabilidade é especialmente vantajosa para grandes volumes de dados, onde o tempo de processamento em uma única thread seria muito maior. Conforme o número de threads aumenta (desde que o processador suporte esse paralelismo), o tempo total de execução tende a diminuir. Portanto, ao aumentar a quantidade de threads, o programa se torna mais eficiente, aproveitando ao máximo os recursos de processamento disponíveis."
      ],
      "metadata": {
        "id": "jit-ShjwYcPp"
      }
    }
  ]
}